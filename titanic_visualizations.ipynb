{
 "cells": [
  {
   "cell_type": "markdown",
   "metadata": {},
   "source": [
    "# Who survived the Titantic?"
   ]
  },
  {
   "cell_type": "markdown",
   "metadata": {},
   "source": [
    "## General Set-Up"
   ]
  },
  {
   "cell_type": "code",
   "execution_count": 2,
   "metadata": {},
   "outputs": [],
   "source": [
    "import pandas as pd\n",
    "pd.set_option('display.max_columns', 999)\n",
    "import numpy as np\n",
    "import os\n",
    "\n",
    "##Visualization Libraries\n",
    "import matplotlib as mpl\n",
    "import matplotlib.pyplot as plt\n",
    "%matplotlib inline"
   ]
  },
  {
   "cell_type": "code",
   "execution_count": 3,
   "metadata": {},
   "outputs": [
    {
     "data": {
      "text/html": [
       "<div>\n",
       "<style scoped>\n",
       "    .dataframe tbody tr th:only-of-type {\n",
       "        vertical-align: middle;\n",
       "    }\n",
       "\n",
       "    .dataframe tbody tr th {\n",
       "        vertical-align: top;\n",
       "    }\n",
       "\n",
       "    .dataframe thead th {\n",
       "        text-align: right;\n",
       "    }\n",
       "</style>\n",
       "<table border=\"1\" class=\"dataframe\">\n",
       "  <thead>\n",
       "    <tr style=\"text-align: right;\">\n",
       "      <th></th>\n",
       "      <th>pclass</th>\n",
       "      <th>survived</th>\n",
       "      <th>name</th>\n",
       "      <th>sex</th>\n",
       "      <th>age</th>\n",
       "      <th>siblings/spouses</th>\n",
       "      <th>parents/children</th>\n",
       "      <th>ticket</th>\n",
       "      <th>fare</th>\n",
       "      <th>cabin</th>\n",
       "      <th>embarked</th>\n",
       "      <th>boat</th>\n",
       "      <th>body</th>\n",
       "      <th>home.dest</th>\n",
       "    </tr>\n",
       "    <tr>\n",
       "      <th>pid</th>\n",
       "      <th></th>\n",
       "      <th></th>\n",
       "      <th></th>\n",
       "      <th></th>\n",
       "      <th></th>\n",
       "      <th></th>\n",
       "      <th></th>\n",
       "      <th></th>\n",
       "      <th></th>\n",
       "      <th></th>\n",
       "      <th></th>\n",
       "      <th></th>\n",
       "      <th></th>\n",
       "      <th></th>\n",
       "    </tr>\n",
       "  </thead>\n",
       "  <tbody>\n",
       "    <tr>\n",
       "      <td>1</td>\n",
       "      <td>3</td>\n",
       "      <td>0</td>\n",
       "      <td>Abbing, Mr. Anthony</td>\n",
       "      <td>male</td>\n",
       "      <td>42.0</td>\n",
       "      <td>0</td>\n",
       "      <td>0</td>\n",
       "      <td>C.A. 5547</td>\n",
       "      <td>7.55</td>\n",
       "      <td>NaN</td>\n",
       "      <td>S</td>\n",
       "      <td>NaN</td>\n",
       "      <td>NaN</td>\n",
       "      <td>NaN</td>\n",
       "    </tr>\n",
       "    <tr>\n",
       "      <td>2</td>\n",
       "      <td>3</td>\n",
       "      <td>0</td>\n",
       "      <td>Abbott, Master. Eugene Joseph</td>\n",
       "      <td>male</td>\n",
       "      <td>13.0</td>\n",
       "      <td>0</td>\n",
       "      <td>2</td>\n",
       "      <td>C.A. 2673</td>\n",
       "      <td>20.25</td>\n",
       "      <td>NaN</td>\n",
       "      <td>S</td>\n",
       "      <td>NaN</td>\n",
       "      <td>NaN</td>\n",
       "      <td>East Providence, RI</td>\n",
       "    </tr>\n",
       "    <tr>\n",
       "      <td>3</td>\n",
       "      <td>3</td>\n",
       "      <td>0</td>\n",
       "      <td>Abbott, Mr. Rossmore Edward</td>\n",
       "      <td>male</td>\n",
       "      <td>16.0</td>\n",
       "      <td>1</td>\n",
       "      <td>1</td>\n",
       "      <td>C.A. 2673</td>\n",
       "      <td>20.25</td>\n",
       "      <td>NaN</td>\n",
       "      <td>S</td>\n",
       "      <td>NaN</td>\n",
       "      <td>190.0</td>\n",
       "      <td>East Providence, RI</td>\n",
       "    </tr>\n",
       "    <tr>\n",
       "      <td>4</td>\n",
       "      <td>3</td>\n",
       "      <td>1</td>\n",
       "      <td>Abbott, Mrs. Stanton (Rosa Hunt)</td>\n",
       "      <td>female</td>\n",
       "      <td>35.0</td>\n",
       "      <td>1</td>\n",
       "      <td>1</td>\n",
       "      <td>C.A. 2673</td>\n",
       "      <td>20.25</td>\n",
       "      <td>NaN</td>\n",
       "      <td>S</td>\n",
       "      <td>A</td>\n",
       "      <td>NaN</td>\n",
       "      <td>East Providence, RI</td>\n",
       "    </tr>\n",
       "    <tr>\n",
       "      <td>5</td>\n",
       "      <td>3</td>\n",
       "      <td>1</td>\n",
       "      <td>Abelseth, Miss. Karen Marie</td>\n",
       "      <td>female</td>\n",
       "      <td>16.0</td>\n",
       "      <td>0</td>\n",
       "      <td>0</td>\n",
       "      <td>348125</td>\n",
       "      <td>7.65</td>\n",
       "      <td>NaN</td>\n",
       "      <td>S</td>\n",
       "      <td>16</td>\n",
       "      <td>NaN</td>\n",
       "      <td>Norway Los Angeles, CA</td>\n",
       "    </tr>\n",
       "  </tbody>\n",
       "</table>\n",
       "</div>"
      ],
      "text/plain": [
       "     pclass  survived                              name     sex   age  \\\n",
       "pid                                                                     \n",
       "1         3         0               Abbing, Mr. Anthony    male  42.0   \n",
       "2         3         0     Abbott, Master. Eugene Joseph    male  13.0   \n",
       "3         3         0       Abbott, Mr. Rossmore Edward    male  16.0   \n",
       "4         3         1  Abbott, Mrs. Stanton (Rosa Hunt)  female  35.0   \n",
       "5         3         1       Abelseth, Miss. Karen Marie  female  16.0   \n",
       "\n",
       "     siblings/spouses  parents/children     ticket   fare cabin embarked boat  \\\n",
       "pid                                                                             \n",
       "1                   0                 0  C.A. 5547   7.55   NaN        S  NaN   \n",
       "2                   0                 2  C.A. 2673  20.25   NaN        S  NaN   \n",
       "3                   1                 1  C.A. 2673  20.25   NaN        S  NaN   \n",
       "4                   1                 1  C.A. 2673  20.25   NaN        S    A   \n",
       "5                   0                 0     348125   7.65   NaN        S   16   \n",
       "\n",
       "      body               home.dest  \n",
       "pid                                 \n",
       "1      NaN                     NaN  \n",
       "2      NaN     East Providence, RI  \n",
       "3    190.0     East Providence, RI  \n",
       "4      NaN     East Providence, RI  \n",
       "5      NaN  Norway Los Angeles, CA  "
      ]
     },
     "execution_count": 3,
     "metadata": {},
     "output_type": "execute_result"
    }
   ],
   "source": [
    "data_dir = os.getcwd()\n",
    "student_file = data_dir + '/TitanicData.csv'\n",
    "df = pd.read_csv(student_file, index_col=0)\n",
    "df.head()"
   ]
  },
  {
   "cell_type": "markdown",
   "metadata": {},
   "source": [
    "## VISUALIZATION\n",
    "### Embarked"
   ]
  },
  {
   "cell_type": "code",
   "execution_count": 4,
   "metadata": {},
   "outputs": [
    {
     "name": "stdout",
     "output_type": "stream",
     "text": [
      "C:  44.44444444444444   S: 66.73960612691467   Q:  64.22764227642277\n"
     ]
    },
    {
     "data": {
      "text/html": [
       "<div>\n",
       "<style scoped>\n",
       "    .dataframe tbody tr th:only-of-type {\n",
       "        vertical-align: middle;\n",
       "    }\n",
       "\n",
       "    .dataframe tbody tr th {\n",
       "        vertical-align: top;\n",
       "    }\n",
       "\n",
       "    .dataframe thead th {\n",
       "        text-align: right;\n",
       "    }\n",
       "</style>\n",
       "<table border=\"1\" class=\"dataframe\">\n",
       "  <thead>\n",
       "    <tr style=\"text-align: right;\">\n",
       "      <th></th>\n",
       "      <th>Port</th>\n",
       "      <th>Death Rate</th>\n",
       "    </tr>\n",
       "  </thead>\n",
       "  <tbody>\n",
       "    <tr>\n",
       "      <td>0</td>\n",
       "      <td>Cherbourg</td>\n",
       "      <td>44.444444</td>\n",
       "    </tr>\n",
       "    <tr>\n",
       "      <td>1</td>\n",
       "      <td>Southampton</td>\n",
       "      <td>66.739606</td>\n",
       "    </tr>\n",
       "    <tr>\n",
       "      <td>2</td>\n",
       "      <td>Queenstown</td>\n",
       "      <td>64.227642</td>\n",
       "    </tr>\n",
       "  </tbody>\n",
       "</table>\n",
       "</div>"
      ],
      "text/plain": [
       "          Port  Death Rate\n",
       "0    Cherbourg   44.444444\n",
       "1  Southampton   66.739606\n",
       "2   Queenstown   64.227642"
      ]
     },
     "execution_count": 4,
     "metadata": {},
     "output_type": "execute_result"
    }
   ],
   "source": [
    "ccounter = 0\n",
    "scounter = 0\n",
    "qcounter = 0\n",
    "\n",
    "c_not_survived = df.loc[(df['embarked']== 'C') & (df['survived'] == 0)]\n",
    "c = df.loc[(df['embarked']== 'C')]\n",
    "\n",
    "s_not_survived = df.loc[(df['embarked']== 'S') & (df['survived'] == 0)]\n",
    "s = df.loc[(df['embarked']== 'S')]\n",
    "\n",
    "q_not_survived = df.loc[(df['embarked']== 'Q') & (df['survived'] == 0)]\n",
    "q = df.loc[(df['embarked']== 'Q')]\n",
    "\n",
    "for item in c_not_survived['embarked']:\n",
    "    ccounter += 1\n",
    "    \n",
    "for item in s_not_survived['embarked']:\n",
    "    scounter += 1\n",
    "    \n",
    "for item in q_not_survived['embarked']:\n",
    "    qcounter += 1\n",
    "\n",
    "cfinal = (ccounter/ len(c) * 100)\n",
    "sfinal = (scounter/ len(s) * 100)\n",
    "qfinal = (qcounter/ len(q) * 100)\n",
    "\n",
    "print (\"C: \", cfinal, \" \", \"S:\", sfinal, \" \", \"Q: \", qfinal)\n",
    "\n",
    "data = [['Cherbourg', cfinal], ['Southampton', sfinal], ['Queenstown', qfinal]] \n",
    "embarkment = pd.DataFrame(data, columns = ['Port', 'Death Rate'])\n",
    "embarkment"
   ]
  },
  {
   "cell_type": "code",
   "execution_count": 5,
   "metadata": {},
   "outputs": [
    {
     "data": {
      "text/plain": [
       "<matplotlib.legend.Legend at 0x115f437d0>"
      ]
     },
     "execution_count": 5,
     "metadata": {},
     "output_type": "execute_result"
    },
    {
     "data": {
      "image/png": "[encoded data removed]",
      "text/plain": [
       "<Figure size 432x288 with 1 Axes>"
      ]
     },
     "metadata": {
      "needs_background": "light"
     },
     "output_type": "display_data"
    }
   ],
   "source": [
    "ax = embarkment.plot.bar(x='Port', y='Death Rate', rot=0)\n",
    "plt.ylabel('Deaths (Percentage)')\n",
    "plt.xlabel('Port of Embarkment')\n",
    "plt.title('Death Rates by Port of Embarkment')\n",
    "plt.legend()"
   ]
  },
  {
   "cell_type": "markdown",
   "metadata": {},
   "source": [
    "### PCLASS"
   ]
  },
  {
   "cell_type": "code",
   "execution_count": 6,
   "metadata": {},
   "outputs": [
    {
     "name": "stdout",
     "output_type": "stream",
     "text": [
      "1st Class:  38.080495356037154   2nd Class: 57.03971119133574   3rd Class:  74.47108603667137\n"
     ]
    },
    {
     "data": {
      "text/html": [
       "<div>\n",
       "<style scoped>\n",
       "    .dataframe tbody tr th:only-of-type {\n",
       "        vertical-align: middle;\n",
       "    }\n",
       "\n",
       "    .dataframe tbody tr th {\n",
       "        vertical-align: top;\n",
       "    }\n",
       "\n",
       "    .dataframe thead th {\n",
       "        text-align: right;\n",
       "    }\n",
       "</style>\n",
       "<table border=\"1\" class=\"dataframe\">\n",
       "  <thead>\n",
       "    <tr style=\"text-align: right;\">\n",
       "      <th></th>\n",
       "      <th>Passenger Class</th>\n",
       "      <th>Death Rate</th>\n",
       "    </tr>\n",
       "  </thead>\n",
       "  <tbody>\n",
       "    <tr>\n",
       "      <td>0</td>\n",
       "      <td>1st</td>\n",
       "      <td>38.080495</td>\n",
       "    </tr>\n",
       "    <tr>\n",
       "      <td>1</td>\n",
       "      <td>2nd</td>\n",
       "      <td>57.039711</td>\n",
       "    </tr>\n",
       "    <tr>\n",
       "      <td>2</td>\n",
       "      <td>3rd</td>\n",
       "      <td>74.471086</td>\n",
       "    </tr>\n",
       "  </tbody>\n",
       "</table>\n",
       "</div>"
      ],
      "text/plain": [
       "  Passenger Class  Death Rate\n",
       "0             1st   38.080495\n",
       "1             2nd   57.039711\n",
       "2             3rd   74.471086"
      ]
     },
     "execution_count": 6,
     "metadata": {},
     "output_type": "execute_result"
    }
   ],
   "source": [
    "p1counter = 0\n",
    "p2counter = 0\n",
    "p3counter = 0\n",
    "\n",
    "p1_not_survived = df.loc[(df['pclass']== 1) & (df['survived'] == 0)]\n",
    "p1 = df.loc[(df['pclass']== 1)]\n",
    "\n",
    "p2_not_survived = df.loc[(df['pclass']== 2) & (df['survived'] == 0)]\n",
    "p2 = df.loc[(df['pclass']== 2)]\n",
    "\n",
    "p3_not_survived = df.loc[(df['pclass']== 3) & (df['survived'] == 0)]\n",
    "p3 = df.loc[(df['pclass']== 3)]\n",
    "\n",
    "for item in p1_not_survived['pclass']:\n",
    "    p1counter += 1\n",
    "    \n",
    "for item in p2_not_survived['pclass']:\n",
    "    p2counter += 1\n",
    "    \n",
    "for item in p3_not_survived['pclass']:\n",
    "    p3counter += 1\n",
    "\n",
    "p1final = (p1counter/ len(p1) * 100)\n",
    "p2final = (p2counter/ len(p2) * 100)\n",
    "p3final = (p3counter/ len(p3) * 100)\n",
    "\n",
    "print (\"1st Class: \", p1final, \" \", \"2nd Class:\", p2final, \" \", \"3rd Class: \", p3final)\n",
    "\n",
    "data = [['1st', p1final], ['2nd', p2final], ['3rd', p3final]] \n",
    "pclass = pd.DataFrame(data, columns = ['Passenger Class', 'Death Rate'])\n",
    "pclass"
   ]
  },
  {
   "cell_type": "code",
   "execution_count": 79,
   "metadata": {},
   "outputs": [
    {
     "data": {
      "text/plain": [
       "<matplotlib.legend.Legend at 0x125332a50>"
      ]
     },
     "execution_count": 79,
     "metadata": {},
     "output_type": "execute_result"
    },
    {
     "data": {
      "image/png": "[encoded data removed]",
      "text/plain": [
       "<Figure size 432x288 with 1 Axes>"
      ]
     },
     "metadata": {
      "needs_background": "light"
     },
     "output_type": "display_data"
    }
   ],
   "source": [
    "bx = pclass.plot.bar(x='Passenger Class', y='Death Rate', rot=0, color = 'orange')\n",
    "plt.ylabel('Deaths (Percentage)')\n",
    "plt.xlabel('Passenger Class')\n",
    "plt.title('Death Rates by Passenger Ticket Class')\n",
    "plt.legend()"
   ]
  },
  {
   "cell_type": "code",
   "execution_count": null,
   "metadata": {},
   "outputs": [],
   "source": []
  }
 ],
 "metadata": {
  "kernelspec": {
   "display_name": "Python 3",
   "language": "python",
   "name": "python3"
  },
  "language_info": {
   "codemirror_mode": {
    "name": "ipython",
    "version": 3
   },
   "file_extension": ".py",
   "mimetype": "text/x-python",
   "name": "python",
   "nbconvert_exporter": "python",
   "pygments_lexer": "ipython3",
   "version": "3.7.4"
  }
 },
 "nbformat": 4,
 "nbformat_minor": 2
}
