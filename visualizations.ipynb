{
 "cells": [
  {
   "cell_type": "code",
   "execution_count": 1,
   "metadata": {
    "scrolled": true
   },
   "outputs": [
    {
     "data": {
      "text/html": [
       "<div>\n",
       "<style scoped>\n",
       "    .dataframe tbody tr th:only-of-type {\n",
       "        vertical-align: middle;\n",
       "    }\n",
       "\n",
       "    .dataframe tbody tr th {\n",
       "        vertical-align: top;\n",
       "    }\n",
       "\n",
       "    .dataframe thead th {\n",
       "        text-align: right;\n",
       "    }\n",
       "</style>\n",
       "<table border=\"1\" class=\"dataframe\">\n",
       "  <thead>\n",
       "    <tr style=\"text-align: right;\">\n",
       "      <th></th>\n",
       "      <th>pclass</th>\n",
       "      <th>survived</th>\n",
       "      <th>name</th>\n",
       "      <th>sex</th>\n",
       "      <th>age</th>\n",
       "      <th>siblings/spouses</th>\n",
       "      <th>parents/children</th>\n",
       "      <th>ticket</th>\n",
       "      <th>fare</th>\n",
       "      <th>cabin</th>\n",
       "      <th>embarked</th>\n",
       "      <th>boat</th>\n",
       "      <th>body</th>\n",
       "      <th>home.dest</th>\n",
       "    </tr>\n",
       "    <tr>\n",
       "      <th>pid</th>\n",
       "      <th></th>\n",
       "      <th></th>\n",
       "      <th></th>\n",
       "      <th></th>\n",
       "      <th></th>\n",
       "      <th></th>\n",
       "      <th></th>\n",
       "      <th></th>\n",
       "      <th></th>\n",
       "      <th></th>\n",
       "      <th></th>\n",
       "      <th></th>\n",
       "      <th></th>\n",
       "      <th></th>\n",
       "    </tr>\n",
       "  </thead>\n",
       "  <tbody>\n",
       "    <tr>\n",
       "      <td>1</td>\n",
       "      <td>3</td>\n",
       "      <td>0</td>\n",
       "      <td>Abbing, Mr. Anthony</td>\n",
       "      <td>male</td>\n",
       "      <td>42</td>\n",
       "      <td>0</td>\n",
       "      <td>0</td>\n",
       "      <td>C.A. 5547</td>\n",
       "      <td>7.55</td>\n",
       "      <td>NaN</td>\n",
       "      <td>S</td>\n",
       "      <td>NaN</td>\n",
       "      <td>NaN</td>\n",
       "      <td>NaN</td>\n",
       "    </tr>\n",
       "    <tr>\n",
       "      <td>2</td>\n",
       "      <td>3</td>\n",
       "      <td>0</td>\n",
       "      <td>Abbott, Master. Eugene Joseph</td>\n",
       "      <td>male</td>\n",
       "      <td>13</td>\n",
       "      <td>0</td>\n",
       "      <td>2</td>\n",
       "      <td>C.A. 2673</td>\n",
       "      <td>20.25</td>\n",
       "      <td>NaN</td>\n",
       "      <td>S</td>\n",
       "      <td>NaN</td>\n",
       "      <td>NaN</td>\n",
       "      <td>East Providence, RI</td>\n",
       "    </tr>\n",
       "    <tr>\n",
       "      <td>3</td>\n",
       "      <td>3</td>\n",
       "      <td>0</td>\n",
       "      <td>Abbott, Mr. Rossmore Edward</td>\n",
       "      <td>male</td>\n",
       "      <td>16</td>\n",
       "      <td>1</td>\n",
       "      <td>1</td>\n",
       "      <td>C.A. 2673</td>\n",
       "      <td>20.25</td>\n",
       "      <td>NaN</td>\n",
       "      <td>S</td>\n",
       "      <td>NaN</td>\n",
       "      <td>190.0</td>\n",
       "      <td>East Providence, RI</td>\n",
       "    </tr>\n",
       "    <tr>\n",
       "      <td>4</td>\n",
       "      <td>3</td>\n",
       "      <td>1</td>\n",
       "      <td>Abbott, Mrs. Stanton (Rosa Hunt)</td>\n",
       "      <td>female</td>\n",
       "      <td>35</td>\n",
       "      <td>1</td>\n",
       "      <td>1</td>\n",
       "      <td>C.A. 2673</td>\n",
       "      <td>20.25</td>\n",
       "      <td>NaN</td>\n",
       "      <td>S</td>\n",
       "      <td>A</td>\n",
       "      <td>NaN</td>\n",
       "      <td>East Providence, RI</td>\n",
       "    </tr>\n",
       "    <tr>\n",
       "      <td>5</td>\n",
       "      <td>3</td>\n",
       "      <td>1</td>\n",
       "      <td>Abelseth, Miss. Karen Marie</td>\n",
       "      <td>female</td>\n",
       "      <td>16</td>\n",
       "      <td>0</td>\n",
       "      <td>0</td>\n",
       "      <td>348125</td>\n",
       "      <td>7.65</td>\n",
       "      <td>NaN</td>\n",
       "      <td>S</td>\n",
       "      <td>16</td>\n",
       "      <td>NaN</td>\n",
       "      <td>Norway Los Angeles, CA</td>\n",
       "    </tr>\n",
       "    <tr>\n",
       "      <td>...</td>\n",
       "      <td>...</td>\n",
       "      <td>...</td>\n",
       "      <td>...</td>\n",
       "      <td>...</td>\n",
       "      <td>...</td>\n",
       "      <td>...</td>\n",
       "      <td>...</td>\n",
       "      <td>...</td>\n",
       "      <td>...</td>\n",
       "      <td>...</td>\n",
       "      <td>...</td>\n",
       "      <td>...</td>\n",
       "      <td>...</td>\n",
       "      <td>...</td>\n",
       "    </tr>\n",
       "    <tr>\n",
       "      <td>1305</td>\n",
       "      <td>3</td>\n",
       "      <td>0</td>\n",
       "      <td>Zabour, Miss. Hileni</td>\n",
       "      <td>female</td>\n",
       "      <td>15</td>\n",
       "      <td>1</td>\n",
       "      <td>0</td>\n",
       "      <td>2665</td>\n",
       "      <td>14.45</td>\n",
       "      <td>NaN</td>\n",
       "      <td>C</td>\n",
       "      <td>NaN</td>\n",
       "      <td>328.0</td>\n",
       "      <td>NaN</td>\n",
       "    </tr>\n",
       "    <tr>\n",
       "      <td>1306</td>\n",
       "      <td>3</td>\n",
       "      <td>0</td>\n",
       "      <td>Zabour, Miss. Thamine</td>\n",
       "      <td>female</td>\n",
       "      <td>19</td>\n",
       "      <td>1</td>\n",
       "      <td>0</td>\n",
       "      <td>2665</td>\n",
       "      <td>14.45</td>\n",
       "      <td>NaN</td>\n",
       "      <td>C</td>\n",
       "      <td>NaN</td>\n",
       "      <td>NaN</td>\n",
       "      <td>NaN</td>\n",
       "    </tr>\n",
       "    <tr>\n",
       "      <td>1307</td>\n",
       "      <td>3</td>\n",
       "      <td>0</td>\n",
       "      <td>Zakarian, Mr. Mapriededer</td>\n",
       "      <td>male</td>\n",
       "      <td>27</td>\n",
       "      <td>0</td>\n",
       "      <td>0</td>\n",
       "      <td>2656</td>\n",
       "      <td>7.23</td>\n",
       "      <td>NaN</td>\n",
       "      <td>C</td>\n",
       "      <td>NaN</td>\n",
       "      <td>304.0</td>\n",
       "      <td>NaN</td>\n",
       "    </tr>\n",
       "    <tr>\n",
       "      <td>1308</td>\n",
       "      <td>3</td>\n",
       "      <td>0</td>\n",
       "      <td>Zakarian, Mr. Ortin</td>\n",
       "      <td>male</td>\n",
       "      <td>27</td>\n",
       "      <td>0</td>\n",
       "      <td>0</td>\n",
       "      <td>2670</td>\n",
       "      <td>7.23</td>\n",
       "      <td>NaN</td>\n",
       "      <td>C</td>\n",
       "      <td>NaN</td>\n",
       "      <td>NaN</td>\n",
       "      <td>NaN</td>\n",
       "    </tr>\n",
       "    <tr>\n",
       "      <td>1309</td>\n",
       "      <td>3</td>\n",
       "      <td>0</td>\n",
       "      <td>Zimmerman, Mr. Leo</td>\n",
       "      <td>male</td>\n",
       "      <td>29</td>\n",
       "      <td>0</td>\n",
       "      <td>0</td>\n",
       "      <td>315082</td>\n",
       "      <td>7.88</td>\n",
       "      <td>NaN</td>\n",
       "      <td>S</td>\n",
       "      <td>NaN</td>\n",
       "      <td>NaN</td>\n",
       "      <td>NaN</td>\n",
       "    </tr>\n",
       "  </tbody>\n",
       "</table>\n",
       "<p>1309 rows × 14 columns</p>\n",
       "</div>"
      ],
      "text/plain": [
       "      pclass  survived                              name     sex  age  \\\n",
       "pid                                                                     \n",
       "1          3         0               Abbing, Mr. Anthony    male   42   \n",
       "2          3         0     Abbott, Master. Eugene Joseph    male   13   \n",
       "3          3         0       Abbott, Mr. Rossmore Edward    male   16   \n",
       "4          3         1  Abbott, Mrs. Stanton (Rosa Hunt)  female   35   \n",
       "5          3         1       Abelseth, Miss. Karen Marie  female   16   \n",
       "...      ...       ...                               ...     ...  ...   \n",
       "1305       3         0              Zabour, Miss. Hileni  female   15   \n",
       "1306       3         0             Zabour, Miss. Thamine  female   19   \n",
       "1307       3         0         Zakarian, Mr. Mapriededer    male   27   \n",
       "1308       3         0               Zakarian, Mr. Ortin    male   27   \n",
       "1309       3         0                Zimmerman, Mr. Leo    male   29   \n",
       "\n",
       "      siblings/spouses  parents/children     ticket   fare cabin embarked  \\\n",
       "pid                                                                         \n",
       "1                    0                 0  C.A. 5547   7.55   NaN        S   \n",
       "2                    0                 2  C.A. 2673  20.25   NaN        S   \n",
       "3                    1                 1  C.A. 2673  20.25   NaN        S   \n",
       "4                    1                 1  C.A. 2673  20.25   NaN        S   \n",
       "5                    0                 0     348125   7.65   NaN        S   \n",
       "...                ...               ...        ...    ...   ...      ...   \n",
       "1305                 1                 0       2665  14.45   NaN        C   \n",
       "1306                 1                 0       2665  14.45   NaN        C   \n",
       "1307                 0                 0       2656   7.23   NaN        C   \n",
       "1308                 0                 0       2670   7.23   NaN        C   \n",
       "1309                 0                 0     315082   7.88   NaN        S   \n",
       "\n",
       "     boat   body               home.dest  \n",
       "pid                                       \n",
       "1     NaN    NaN                     NaN  \n",
       "2     NaN    NaN     East Providence, RI  \n",
       "3     NaN  190.0     East Providence, RI  \n",
       "4       A    NaN     East Providence, RI  \n",
       "5      16    NaN  Norway Los Angeles, CA  \n",
       "...   ...    ...                     ...  \n",
       "1305  NaN  328.0                     NaN  \n",
       "1306  NaN    NaN                     NaN  \n",
       "1307  NaN  304.0                     NaN  \n",
       "1308  NaN    NaN                     NaN  \n",
       "1309  NaN    NaN                     NaN  \n",
       "\n",
       "[1309 rows x 14 columns]"
      ]
     },
     "execution_count": 1,
     "metadata": {},
     "output_type": "execute_result"
    }
   ],
   "source": [
    "import pandas as pd\n",
    "import numpy as np\n",
    "import matplotlib.pyplot as plt\n",
    "import seaborn as sns; sns.set()\n",
    "import os\n",
    "\n",
    "# Import data set csv\n",
    "data_dir = os.getcwd()\n",
    "student_file = data_dir + '/TitanicData.csv'\n",
    "df = pd.read_csv(student_file, index_col=0)\n",
    "df"
   ]
  },
  {
   "cell_type": "markdown",
   "metadata": {},
   "source": [
    "## Sex Column Visualization"
   ]
  },
  {
   "cell_type": "code",
   "execution_count": 3,
   "metadata": {},
   "outputs": [
    {
     "name": "stdout",
     "output_type": "stream",
     "text": [
      "   Gender  Survival Rate\n",
      "0    Male          19.10\n",
      "1  Female          72.75\n"
     ]
    }
   ],
   "source": [
    "# Get total of each gender that survived\n",
    "mSurvived = df.loc[(df['sex']== 'male') & (df['survived'] == 1)]\n",
    "fSurvived = df.loc[(df['sex']== 'female') & (df['survived'] == 1)]\n",
    "\n",
    "# Get percentage of each gender that survived\n",
    "mSurvivalRate = round((len(mSurvived)/len(df.loc[df['sex']== 'male'])*100), 2)\n",
    "fSurvivalRate = round((len(fSurvived)/len(df.loc[df['sex']== 'female'])*100), 2)\n",
    "\n",
    "# Create table to make it easier to graph\n",
    "sexData = [['Male', mSurvivalRate], ['Female', fSurvivalRate]]\n",
    "sexTable = pd.DataFrame(sexData, columns = ['Gender', 'Survival Rate'])\n",
    "print(sexTable)"
   ]
  },
  {
   "cell_type": "code",
   "execution_count": 4,
   "metadata": {},
   "outputs": [
    {
     "data": {
      "text/plain": [
       "<matplotlib.legend.Legend at 0x2404c12eec8>"
      ]
     },
     "execution_count": 4,
     "metadata": {},
     "output_type": "execute_result"
    },
    {
     "data": {
      "image/png": "[encoded data removed]",
      "text/plain": [
       "<Figure size 432x288 with 1 Axes>"
      ]
     },
     "metadata": {
      "needs_background": "light"
     },
     "output_type": "display_data"
    }
   ],
   "source": [
    "# Plot bar graph\n",
    "ax = sexTable.plot.bar(x='Gender', y='Survival Rate', rot=0, color=\"green\")\n",
    "plt.ylabel('Survival Rate (%)')\n",
    "plt.xlabel('Gender')\n",
    "plt.title('Survival Rates by Gender')\n",
    "plt.legend()"
   ]
  },
  {
   "cell_type": "markdown",
   "metadata": {},
   "source": [
    "## Age Column Visualization"
   ]
  },
  {
   "cell_type": "code",
   "execution_count": 12,
   "metadata": {},
   "outputs": [
    {
     "name": "stdout",
     "output_type": "stream",
     "text": [
      "  Age Range  Survival Rate\n",
      "0      0-10          54.00\n",
      "1     11-20          34.27\n",
      "2     21-30          35.39\n",
      "3     31-40          40.47\n",
      "4     41-50          39.39\n",
      "5     51-60          45.45\n",
      "6     61-70          18.18\n",
      "7     71-80          33.33\n"
     ]
    }
   ],
   "source": [
    "# Get total of each age range that survived 0-10, 11-20, 21-30, 31-40, 41-50, 51-60, 61-70, 71-80\n",
    "df['agerange'] = pd.cut(df['age'], bins=[-1, 10, 20, 30, 40, 50, 60, 70, 80], labels=False)\n",
    "a = df.loc[(df['agerange']== 0) & (df['survived'] == 1)]\n",
    "b = df.loc[(df['agerange']== 1) & (df['survived'] == 1)]\n",
    "c = df.loc[(df['agerange']== 2) & (df['survived'] == 1)]\n",
    "d = df.loc[(df['agerange']== 3) & (df['survived'] == 1)]\n",
    "e = df.loc[(df['agerange']== 4) & (df['survived'] == 1)]\n",
    "f = df.loc[(df['agerange']== 5) & (df['survived'] == 1)]\n",
    "g = df.loc[(df['agerange']== 6) & (df['survived'] == 1)]\n",
    "h = df.loc[(df['agerange']== 7) & (df['survived'] == 1)]\n",
    "\n",
    "# Get percentage of each age range that survived\n",
    "aP = round((len(a)/len(df.loc[df['agerange']== 0])*100), 2)\n",
    "bP = round((len(b)/len(df.loc[df['agerange']== 1])*100), 2)\n",
    "cP = round((len(c)/len(df.loc[df['agerange']== 2])*100), 2)\n",
    "dP = round((len(d)/len(df.loc[df['agerange']== 3])*100), 2)\n",
    "eP = round((len(e)/len(df.loc[df['agerange']== 4])*100), 2)\n",
    "fP = round((len(f)/len(df.loc[df['agerange']== 5])*100), 2)\n",
    "gP = round((len(g)/len(df.loc[df['agerange']== 6])*100), 2)\n",
    "hP = round((len(h)/len(df.loc[df['agerange']== 7])*100), 2)\n",
    "\n",
    "# Create table to make it easier to graph\n",
    "ageData = [['0-10', aP], ['11-20', bP], ['21-30', cP], ['31-40', dP], ['41-50', eP], ['51-60', fP], ['61-70', gP], ['71-80', hP]]\n",
    "#ageData = [[10, aP], [20, bP], [30, cP], [40, dP], [50, eP], [60, fP], [70, gP], [80, hP]]\n",
    "ageTable = pd.DataFrame(ageData, columns = ['Age Range', 'Survival Rate'])\n",
    "print(ageTable)\n",
    "#print(len(e), len(b), len(h))"
   ]
  },
  {
   "cell_type": "code",
   "execution_count": 13,
   "metadata": {},
   "outputs": [
    {
     "data": {
      "text/plain": [
       "<matplotlib.legend.Legend at 0x2404c811e48>"
      ]
     },
     "execution_count": 13,
     "metadata": {},
     "output_type": "execute_result"
    },
    {
     "data": {
      "image/png": "[encoded data removed]",
      "text/plain": [
       "<Figure size 432x288 with 1 Axes>"
      ]
     },
     "metadata": {
      "needs_background": "light"
     },
     "output_type": "display_data"
    }
   ],
   "source": [
    "# Plot bar graph\n",
    "ax = ageTable.plot.bar(x='Age Range', y='Survival Rate', rot=0, color=\"red\")\n",
    "plt.ylabel('Survival Rate (%)')\n",
    "plt.xlabel('Age Range')\n",
    "plt.title('Survival Rates by Age Range')\n",
    "plt.legend()"
   ]
  },
  {
   "cell_type": "code",
   "execution_count": 21,
   "metadata": {},
   "outputs": [
    {
     "data": {
      "image/png": "[encoded data removed]",
      "text/plain": [
       "<Figure size 432x288 with 1 Axes>"
      ]
     },
     "metadata": {
      "needs_background": "light"
     },
     "output_type": "display_data"
    }
   ],
   "source": [
    "ageData = [[10, aP], [20, bP], [30, cP], [40, dP], [50, eP], [60, fP], [70, gP], [80, hP]]\n",
    "ageTable = pd.DataFrame(ageData, columns = ['Age Range', 'Survival Rate'])\n",
    "\n",
    "sns.regplot(x=ageTable['Age Range'],y=round(ageTable['Survival Rate']),data=df, fit_reg=True).set_title('Survival Rates by Age Range Trend Line')\n",
    "plt.xlabel('Age Range (10 = 0-10, 20 = 11-20, etc.)')\n",
    "plt.show()"
   ]
  },
  {
   "cell_type": "code",
   "execution_count": 16,
   "metadata": {},
   "outputs": [
    {
     "name": "stdout",
     "output_type": "stream",
     "text": [
      "  Survived or Not  Number of People\n",
      "0             Yes               500\n",
      "1              No               809\n"
     ]
    }
   ],
   "source": [
    "ySurvived = len(df.loc[(df['survived']==1)])\n",
    "nSurvived = len(df.loc[(df['survived']==0)])\n",
    "sData = [['Yes', ySurvived], ['No', nSurvived]]\n",
    "sTable = pd.DataFrame(sData, columns = ['Survived or Not', 'Number of People'])\n",
    "print(sTable)"
   ]
  },
  {
   "cell_type": "code",
   "execution_count": 22,
   "metadata": {},
   "outputs": [
    {
     "data": {
      "text/plain": [
       "<matplotlib.legend.Legend at 0x1a73b195508>"
      ]
     },
     "execution_count": 22,
     "metadata": {},
     "output_type": "execute_result"
    },
    {
     "data": {
      "image/png": "[encoded data removed]",
      "text/plain": [
       "<Figure size 432x288 with 1 Axes>"
      ]
     },
     "metadata": {
      "needs_background": "light"
     },
     "output_type": "display_data"
    }
   ],
   "source": [
    "ax = sTable.plot.bar(x='Survived or Not', y='Number of People', rot=0, color=\"lightblue\")\n",
    "plt.ylabel('Number of People')\n",
    "plt.title('Number of People Survived')\n",
    "plt.legend()"
   ]
  }
 ],
 "metadata": {
  "kernelspec": {
   "display_name": "Python 3",
   "language": "python",
   "name": "python3"
  },
  "language_info": {
   "codemirror_mode": {
    "name": "ipython",
    "version": 3
   },
   "file_extension": ".py",
   "mimetype": "text/x-python",
   "name": "python",
   "nbconvert_exporter": "python",
   "pygments_lexer": "ipython3",
   "version": "3.7.4"
  }
 },
 "nbformat": 4,
 "nbformat_minor": 2
}
