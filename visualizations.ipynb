{
 "cells": [
  {
   "cell_type": "code",
   "execution_count": 68,
   "metadata": {
    "scrolled": true
   },
   "outputs": [],
   "source": [
    "import pandas as pd\n",
    "import numpy as np\n",
    "import matplotlib.pyplot as plt\n",
    "import os\n",
    "\n",
    "# Import data set csv\n",
    "data_dir = os.getcwd()\n",
    "student_file = data_dir + '/TitanicData.csv'\n",
    "df = pd.read_csv(student_file, index_col=0)"
   ]
  },
  {
   "cell_type": "markdown",
   "metadata": {},
   "source": [
    "## Sex Column Visualization"
   ]
  },
  {
   "cell_type": "code",
   "execution_count": 81,
   "metadata": {},
   "outputs": [
    {
     "name": "stdout",
     "output_type": "stream",
     "text": [
      "   Gender  Survival Rate\n",
      "0    Male          19.10\n",
      "1  Female          72.75\n"
     ]
    }
   ],
   "source": [
    "# Get total of each gender that survived\n",
    "mSurvived = df.loc[(df['sex']== 'male') & (df['survived'] == 1)]\n",
    "fSurvived = df.loc[(df['sex']== 'female') & (df['survived'] == 1)]\n",
    "\n",
    "# Get percentage of each gender that survived\n",
    "mSurvivalRate = round((len(mSurvived)/len(df.loc[df['sex']== 'male'])*100), 2)\n",
    "fSurvivalRate = round((len(fSurvived)/len(df.loc[df['sex']== 'female'])*100), 2)\n",
    "\n",
    "# Create table to make it easier to graph\n",
    "sexData = [['Male', mSurvivalRate], ['Female', fSurvivalRate]]\n",
    "sexTable = pd.DataFrame(sexData, columns = ['Gender', 'Survival Rate'])\n",
    "print(sexTable)"
   ]
  },
  {
   "cell_type": "code",
   "execution_count": 82,
   "metadata": {},
   "outputs": [
    {
     "data": {
      "text/plain": [
       "<matplotlib.legend.Legend at 0x1da33acb088>"
      ]
     },
     "execution_count": 82,
     "metadata": {},
     "output_type": "execute_result"
    },
    {
     "data": {
      "image/png": "[encoded data removed]",
      "text/plain": [
       "<Figure size 432x288 with 1 Axes>"
      ]
     },
     "metadata": {
      "needs_background": "light"
     },
     "output_type": "display_data"
    }
   ],
   "source": [
    "# Plot bar graph\n",
    "ax = sexTable.plot.bar(x='Gender', y='Survival Rate', rot=0, color=\"green\")\n",
    "plt.ylabel('Survival Rate (%)')\n",
    "plt.xlabel('Gender')\n",
    "plt.title('Survival Rates by Gender')\n",
    "plt.legend()"
   ]
  },
  {
   "cell_type": "markdown",
   "metadata": {},
   "source": [
    "## Age Column Visualization"
   ]
  },
  {
   "cell_type": "code",
   "execution_count": 95,
   "metadata": {},
   "outputs": [
    {
     "name": "stdout",
     "output_type": "stream",
     "text": [
      "  Age Range  Survival Rate\n",
      "0      0-10          54.00\n",
      "1     11-20          34.27\n",
      "2     21-30          35.39\n",
      "3     31-40          40.47\n",
      "4     41-50          39.39\n",
      "5     51-60          45.45\n",
      "6     61-70          18.18\n",
      "7     71-80          33.33 6\n"
     ]
    }
   ],
   "source": [
    "# Get total of each age range that survived 0-10, 11-20, 21-30, 31-40, 41-50, 51-60, 61-70, 71-80\n",
    "df['agerange'] = pd.cut(df['age'], bins=[-1, 10, 20, 30, 40, 50, 60, 70, 80], labels=False)\n",
    "a = df.loc[(df['agerange']== 0) & (df['survived'] == 1)]\n",
    "b = df.loc[(df['agerange']== 1) & (df['survived'] == 1)]\n",
    "c = df.loc[(df['agerange']== 2) & (df['survived'] == 1)]\n",
    "d = df.loc[(df['agerange']== 3) & (df['survived'] == 1)]\n",
    "e = df.loc[(df['agerange']== 4) & (df['survived'] == 1)]\n",
    "f = df.loc[(df['agerange']== 5) & (df['survived'] == 1)]\n",
    "g = df.loc[(df['agerange']== 6) & (df['survived'] == 1)]\n",
    "h = df.loc[(df['agerange']== 7) & (df['survived'] == 1)]\n",
    "\n",
    "# Get percentage of each age range that survived\n",
    "aP = round((len(a)/len(df.loc[df['agerange']== 0])*100), 2)\n",
    "bP = round((len(b)/len(df.loc[df['agerange']== 1])*100), 2)\n",
    "cP = round((len(c)/len(df.loc[df['agerange']== 2])*100), 2)\n",
    "dP = round((len(d)/len(df.loc[df['agerange']== 3])*100), 2)\n",
    "eP = round((len(e)/len(df.loc[df['agerange']== 4])*100), 2)\n",
    "fP = round((len(f)/len(df.loc[df['agerange']== 5])*100), 2)\n",
    "gP = round((len(g)/len(df.loc[df['agerange']== 6])*100), 2)\n",
    "hP = round((len(h)/len(df.loc[df['agerange']== 7])*100), 2)\n",
    "\n",
    "# Create table to make it easier to graph\n",
    "ageData = [['0-10', aP], ['11-20', bP], ['21-30', cP], ['31-40', dP], ['41-50', eP], ['51-60', fP], ['61-70', gP], ['71-80', hP]]\n",
    "ageTable = pd.DataFrame(ageData, columns = ['Age Range', 'Survival Rate'])\n",
    "print(ageTable, len(df.loc[df['agerange']== 7]))\n",
    "#labels = np.array('0-10 11-20 21-30 31-40 41-50 51-60 61-70 71-80 81-90 91-100'.split())\n",
    "#df['agerange'] = labels[df['agerange']]\n",
    "#del df['Days Late']\n",
    "#df = df.pivot(index='ID', columns='status', values='quantity')\n",
    "#df\n",
    "#print(len(a), len(b), len(c), len(d), len(e), len(f), len(g), len(h))"
   ]
  },
  {
   "cell_type": "code",
   "execution_count": 97,
   "metadata": {},
   "outputs": [
    {
     "data": {
      "text/plain": [
       "<matplotlib.legend.Legend at 0x1da33c99708>"
      ]
     },
     "execution_count": 97,
     "metadata": {},
     "output_type": "execute_result"
    },
    {
     "data": {
      "image/png": "[encoded data removed]",
      "text/plain": [
       "<Figure size 432x288 with 1 Axes>"
      ]
     },
     "metadata": {
      "needs_background": "light"
     },
     "output_type": "display_data"
    }
   ],
   "source": [
    "# Plot bar graph\n",
    "ax = ageTable.plot.bar(x='Age Range', y='Survival Rate', rot=0, color=\"red\")\n",
    "plt.ylabel('Survival Rate (%)')\n",
    "plt.xlabel('Age Range')\n",
    "plt.title('Survival Rates by Age Range')\n",
    "plt.legend()"
   ]
  },
  {
   "cell_type": "code",
   "execution_count": null,
   "metadata": {},
   "outputs": [],
   "source": []
  }
 ],
 "metadata": {
  "kernelspec": {
   "display_name": "Python 3",
   "language": "python",
   "name": "python3"
  },
  "language_info": {
   "codemirror_mode": {
    "name": "ipython",
    "version": 3
   },
   "file_extension": ".py",
   "mimetype": "text/x-python",
   "name": "python",
   "nbconvert_exporter": "python",
   "pygments_lexer": "ipython3",
   "version": "3.7.4"
  }
 },
 "nbformat": 4,
 "nbformat_minor": 2
}
