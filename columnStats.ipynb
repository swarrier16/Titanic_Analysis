{
 "cells": [
  {
   "cell_type": "code",
   "execution_count": 42,
   "metadata": {},
   "outputs": [],
   "source": [
    "## Author: Winielson Miranda\n",
    "## Date: 20200313\n",
    "## CS301-006, Professor Watson\n",
    "## Titanic Project Columns Statistics\n",
    "## CS301-Intro to Data Science GitHub "
   ]
  },
  {
   "cell_type": "code",
   "execution_count": 1,
   "metadata": {
    "scrolled": true
   },
   "outputs": [],
   "source": [
    "import pandas as pd\n",
    "import numpy as np\n",
    "import seaborn as sns\n",
    "\n",
    "# Import data set csv\n",
    "df = pd.read_csv('TitanicData.csv')"
   ]
  },
  {
   "cell_type": "code",
   "execution_count": 34,
   "metadata": {},
   "outputs": [
    {
     "name": "stdout",
     "output_type": "stream",
     "text": [
      "Number of passengers in each class:\n",
      "First:  323 \n",
      "Second: 277 \n",
      "Third:  709\n"
     ]
    }
   ],
   "source": [
    "# Pclass: determine how many are in each pclass\n",
    "\n",
    "nFirst = len(df.loc[df['pclass'] == 1])\n",
    "nSecond = len(df.loc[df['pclass'] == 2])\n",
    "nThird = len(df.loc[df['pclass'] == 3])\n",
    "\n",
    "print(\"Number of passengers in each class:\\nFirst: \", nFirst, \"\\nSecond:\", nSecond, \"\\nThird: \", nThird)"
   ]
  },
  {
   "cell_type": "code",
   "execution_count": 39,
   "metadata": {},
   "outputs": [
    {
     "name": "stdout",
     "output_type": "stream",
     "text": [
      "Number of passengers that Survived:\n",
      "Did Not Survive: 809 \n",
      "Survived: 500\n"
     ]
    }
   ],
   "source": [
    "# Survived: determine how many survived\n",
    "\n",
    "nNo = len(df.loc[df['survived'] == 0])\n",
    "nYes = len(df.loc[df['survived'] == 1])\n",
    "\n",
    "print(\"Number of passengers that Survived:\\nDid Not Survive:\", nNo, \"\\nSurvived:\", nYes)"
   ]
  },
  {
   "cell_type": "code",
   "execution_count": 62,
   "metadata": {},
   "outputs": [
    {
     "name": "stdout",
     "output_type": "stream",
     "text": [
      "Amount of Unique Names: 1307\n"
     ]
    },
    {
     "data": {
      "text/html": [
       "<div>\n",
       "<style scoped>\n",
       "    .dataframe tbody tr th:only-of-type {\n",
       "        vertical-align: middle;\n",
       "    }\n",
       "\n",
       "    .dataframe tbody tr th {\n",
       "        vertical-align: top;\n",
       "    }\n",
       "\n",
       "    .dataframe thead th {\n",
       "        text-align: right;\n",
       "    }\n",
       "</style>\n",
       "<table border=\"1\" class=\"dataframe\">\n",
       "  <thead>\n",
       "    <tr style=\"text-align: right;\">\n",
       "      <th></th>\n",
       "      <th>pid</th>\n",
       "      <th>pclass</th>\n",
       "      <th>survived</th>\n",
       "      <th>name</th>\n",
       "      <th>sex</th>\n",
       "      <th>age</th>\n",
       "      <th>siblings/spouses</th>\n",
       "      <th>parents/children</th>\n",
       "      <th>ticket</th>\n",
       "      <th>fare</th>\n",
       "      <th>cabin</th>\n",
       "      <th>embarked</th>\n",
       "      <th>boat</th>\n",
       "      <th>body</th>\n",
       "      <th>home.dest</th>\n",
       "      <th>outliers</th>\n",
       "    </tr>\n",
       "  </thead>\n",
       "  <tbody>\n",
       "    <tr>\n",
       "      <td>261</td>\n",
       "      <td>262</td>\n",
       "      <td>3</td>\n",
       "      <td>0</td>\n",
       "      <td>Connolly, Miss. Kate</td>\n",
       "      <td>female</td>\n",
       "      <td>30.0</td>\n",
       "      <td>0</td>\n",
       "      <td>0</td>\n",
       "      <td>330972</td>\n",
       "      <td>7.63</td>\n",
       "      <td>NaN</td>\n",
       "      <td>Q</td>\n",
       "      <td>NaN</td>\n",
       "      <td>NaN</td>\n",
       "      <td>Ireland</td>\n",
       "      <td>False</td>\n",
       "    </tr>\n",
       "    <tr>\n",
       "      <td>262</td>\n",
       "      <td>263</td>\n",
       "      <td>3</td>\n",
       "      <td>1</td>\n",
       "      <td>Connolly, Miss. Kate</td>\n",
       "      <td>female</td>\n",
       "      <td>22.0</td>\n",
       "      <td>0</td>\n",
       "      <td>0</td>\n",
       "      <td>370373</td>\n",
       "      <td>7.75</td>\n",
       "      <td>NaN</td>\n",
       "      <td>Q</td>\n",
       "      <td>13</td>\n",
       "      <td>NaN</td>\n",
       "      <td>Ireland</td>\n",
       "      <td>False</td>\n",
       "    </tr>\n",
       "    <tr>\n",
       "      <td>646</td>\n",
       "      <td>647</td>\n",
       "      <td>3</td>\n",
       "      <td>0</td>\n",
       "      <td>Kelly, Mr. James</td>\n",
       "      <td>male</td>\n",
       "      <td>35.0</td>\n",
       "      <td>0</td>\n",
       "      <td>0</td>\n",
       "      <td>330911</td>\n",
       "      <td>7.83</td>\n",
       "      <td>NaN</td>\n",
       "      <td>Q</td>\n",
       "      <td>NaN</td>\n",
       "      <td>70.0</td>\n",
       "      <td>NaN</td>\n",
       "      <td>False</td>\n",
       "    </tr>\n",
       "    <tr>\n",
       "      <td>647</td>\n",
       "      <td>648</td>\n",
       "      <td>3</td>\n",
       "      <td>0</td>\n",
       "      <td>Kelly, Mr. James</td>\n",
       "      <td>male</td>\n",
       "      <td>44.0</td>\n",
       "      <td>0</td>\n",
       "      <td>0</td>\n",
       "      <td>363592</td>\n",
       "      <td>8.05</td>\n",
       "      <td>NaN</td>\n",
       "      <td>S</td>\n",
       "      <td>NaN</td>\n",
       "      <td>NaN</td>\n",
       "      <td>NaN</td>\n",
       "      <td>False</td>\n",
       "    </tr>\n",
       "  </tbody>\n",
       "</table>\n",
       "</div>"
      ],
      "text/plain": [
       "     pid  pclass  survived                  name     sex   age  \\\n",
       "261  262       3         0  Connolly, Miss. Kate  female  30.0   \n",
       "262  263       3         1  Connolly, Miss. Kate  female  22.0   \n",
       "646  647       3         0      Kelly, Mr. James    male  35.0   \n",
       "647  648       3         0      Kelly, Mr. James    male  44.0   \n",
       "\n",
       "     siblings/spouses  parents/children  ticket  fare cabin embarked boat  \\\n",
       "261                 0                 0  330972  7.63   NaN        Q  NaN   \n",
       "262                 0                 0  370373  7.75   NaN        Q   13   \n",
       "646                 0                 0  330911  7.83   NaN        Q  NaN   \n",
       "647                 0                 0  363592  8.05   NaN        S  NaN   \n",
       "\n",
       "     body home.dest outliers  \n",
       "261   NaN   Ireland    False  \n",
       "262   NaN   Ireland    False  \n",
       "646  70.0       NaN    False  \n",
       "647   NaN       NaN    False  "
      ]
     },
     "execution_count": 62,
     "metadata": {},
     "output_type": "execute_result"
    }
   ],
   "source": [
    "# Name: determine amount of unique names\n",
    "\n",
    "print(\"Amount of Unique Names:\", len(pd.unique(df['name'])))\n",
    "\n",
    "# Display rows with duplicated names\n",
    "df[df['name'].duplicated(keep=False)]"
   ]
  },
  {
   "cell_type": "code",
   "execution_count": 45,
   "metadata": {},
   "outputs": [
    {
     "name": "stdout",
     "output_type": "stream",
     "text": [
      "Number of passengers by gender:\n",
      "Male:   843 \n",
      "Female: 466\n"
     ]
    }
   ],
   "source": [
    "# Sex: determine amount of each gender\n",
    "\n",
    "nMale = len(df.loc[df['sex'] == 'male'])\n",
    "nFemale = len(df.loc[df['sex'] == 'female'])\n",
    "\n",
    "print(\"Number of passengers by gender:\\nMale:  \", nMale, \"\\nFemale:\", nFemale)"
   ]
  },
  {
   "cell_type": "code",
   "execution_count": 71,
   "metadata": {},
   "outputs": [
    {
     "name": "stdout",
     "output_type": "stream",
     "text": [
      "Mean age: 29.62375478927203\n",
      "21.0 28.0 38.0\n",
      "Number of outliers in age column:  22\n",
      "Outliers (pid, age):\n",
      "1245    64.0\n",
      "1152    64.0\n",
      "258     64.0\n",
      "1017    64.0\n",
      "284     64.0\n",
      "413     64.0\n",
      "869     64.0\n",
      "806     65.0\n",
      "916     65.0\n",
      "359     65.0\n",
      "1264    66.0\n",
      "1251    66.0\n",
      "1159    67.0\n",
      "1016    69.0\n",
      "814     70.0\n",
      "282     70.0\n",
      "457     71.0\n",
      "263     71.0\n",
      "54      71.0\n",
      "1168    74.0\n",
      "217     76.0\n",
      "93      80.0\n",
      "Name: age, dtype: float64\n"
     ]
    }
   ],
   "source": [
    "# Age: Find Age Outliers\n",
    "\n",
    "# Mean age\n",
    "print(\"Mean age:\", df['age'].mean())\n",
    "\n",
    "# Get Quantiles\n",
    "Q1 = df['age'].quantile(0.25)\n",
    "Q2 = df['age'].quantile(0.5)\n",
    "Q3 = df['age'].quantile(0.75)\n",
    "print(Q1,Q2,Q3)\n",
    "\n",
    "# Determine IQR\n",
    "IQR = Q3 - Q1\n",
    "\n",
    "# Determine bounds\n",
    "lower_bound = Q1 - (1.5 * IQR)\n",
    "upper_bound = Q3 + (1.5 * IQR)\n",
    "\n",
    "# Create an dataframe with age outliers\n",
    "outliersdf = df.loc[(df['age'] > upper_bound) | (df['age'] < lower_bound)]\n",
    "print(\"Number of outliers in age column: \", len(outliersdf))\n",
    "print(\"Outliers (pid, age):\")\n",
    "print(outliersdf['age'].sort_values(ascending=True)) # print the age outliers"
   ]
  },
  {
   "cell_type": "code",
   "execution_count": 20,
   "metadata": {},
   "outputs": [
    {
     "data": {
      "text/plain": [
       "<matplotlib.axes._subplots.AxesSubplot at 0x2af3f3c7d48>"
      ]
     },
     "execution_count": 20,
     "metadata": {},
     "output_type": "execute_result"
    },
    {
     "data": {
      "image/png": "[encoded data removed]",
      "text/plain": [
       "<Figure size 432x288 with 1 Axes>"
      ]
     },
     "metadata": {
      "needs_background": "light"
     },
     "output_type": "display_data"
    }
   ],
   "source": [
    "# Passenger Age Box Plot Visualization\n",
    "\n",
    "boxplot = sns.boxplot(x=df['age'])\n",
    "boxplot"
   ]
  }
 ],
 "metadata": {
  "kernelspec": {
   "display_name": "Python 3",
   "language": "python",
   "name": "python3"
  },
  "language_info": {
   "codemirror_mode": {
    "name": "ipython",
    "version": 3
   },
   "file_extension": ".py",
   "mimetype": "text/x-python",
   "name": "python",
   "nbconvert_exporter": "python",
   "pygments_lexer": "ipython3",
   "version": "3.7.4"
  }
 },
 "nbformat": 4,
 "nbformat_minor": 2
}
