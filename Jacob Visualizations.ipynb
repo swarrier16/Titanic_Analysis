{
 "cells": [
  {
   "cell_type": "code",
   "execution_count": 4,
   "metadata": {},
   "outputs": [],
   "source": [
    "# Data Manipulation and Analysis Libraries\n",
    "import pandas as pd\n",
    "import numpy as np\n",
    "import os\n",
    "\n",
    "# Visualization Libraries\n",
    "import matplotlib as mpl\n",
    "import matplotlib.pyplot as plt\n",
    "#import seaborn as sns\n",
    "%matplotlib inline"
   ]
  },
  {
   "cell_type": "code",
   "execution_count": 5,
   "metadata": {},
   "outputs": [],
   "source": [
    "# Data Manipulation and Analysis Libraries\n",
    "import pandas as pd\n",
    "import numpy as np\n",
    "import os\n",
    "\n",
    "# Visualization Libraries\n",
    "import matplotlib as mpl\n",
    "import matplotlib.pyplot as plt\n",
    "#import seaborn as sns\n",
    "%matplotlib inline"
   ]
  },
  {
   "cell_type": "code",
   "execution_count": 3,
   "metadata": {},
   "outputs": [
    {
     "ename": "NameError",
     "evalue": "name 'df' is not defined",
     "output_type": "error",
     "traceback": [
      "\u001b[1;31m---------------------------------------------------------------------------\u001b[0m",
      "\u001b[1;31mNameError\u001b[0m                                 Traceback (most recent call last)",
      "\u001b[1;32m<ipython-input-3-b8c23f3df389>\u001b[0m in \u001b[0;36m<module>\u001b[1;34m\u001b[0m\n\u001b[0;32m      2\u001b[0m \u001b[1;31m#print (get_num_outliers(df, 'siblings/spouses'))\u001b[0m\u001b[1;33m\u001b[0m\u001b[1;33m\u001b[0m\u001b[1;33m\u001b[0m\u001b[0m\n\u001b[0;32m      3\u001b[0m \u001b[1;33m\u001b[0m\u001b[0m\n\u001b[1;32m----> 4\u001b[1;33m \u001b[0mhad_sbsp_df\u001b[0m \u001b[1;33m=\u001b[0m \u001b[0mdf\u001b[0m\u001b[1;33m.\u001b[0m\u001b[0mloc\u001b[0m\u001b[1;33m[\u001b[0m\u001b[1;33m(\u001b[0m\u001b[0mdf\u001b[0m\u001b[1;33m[\u001b[0m\u001b[1;34m'siblings/spouses'\u001b[0m\u001b[1;33m]\u001b[0m \u001b[1;33m>\u001b[0m \u001b[1;36m0\u001b[0m\u001b[1;33m)\u001b[0m\u001b[1;33m]\u001b[0m\u001b[1;33m\u001b[0m\u001b[1;33m\u001b[0m\u001b[0m\n\u001b[0m\u001b[0;32m      5\u001b[0m \u001b[0mhad_died\u001b[0m \u001b[1;33m=\u001b[0m \u001b[1;36m100\u001b[0m \u001b[1;33m*\u001b[0m \u001b[0mlen\u001b[0m\u001b[1;33m(\u001b[0m\u001b[0mhad_sbsp_df\u001b[0m\u001b[1;33m.\u001b[0m\u001b[0mloc\u001b[0m\u001b[1;33m[\u001b[0m\u001b[1;33m(\u001b[0m\u001b[0mdf\u001b[0m\u001b[1;33m[\u001b[0m\u001b[1;34m'survived'\u001b[0m\u001b[1;33m]\u001b[0m \u001b[1;33m==\u001b[0m \u001b[1;36m0\u001b[0m\u001b[1;33m)\u001b[0m\u001b[1;33m]\u001b[0m\u001b[1;33m)\u001b[0m \u001b[1;33m/\u001b[0m \u001b[0mlen\u001b[0m\u001b[1;33m(\u001b[0m\u001b[0mhad_sbsp_df\u001b[0m\u001b[1;33m)\u001b[0m\u001b[1;33m\u001b[0m\u001b[1;33m\u001b[0m\u001b[0m\n\u001b[0;32m      6\u001b[0m \u001b[0mhad_surv\u001b[0m \u001b[1;33m=\u001b[0m \u001b[1;36m100\u001b[0m \u001b[1;33m*\u001b[0m \u001b[0mlen\u001b[0m\u001b[1;33m(\u001b[0m\u001b[0mhad_sbsp_df\u001b[0m\u001b[1;33m.\u001b[0m\u001b[0mloc\u001b[0m\u001b[1;33m[\u001b[0m\u001b[1;33m(\u001b[0m\u001b[0mdf\u001b[0m\u001b[1;33m[\u001b[0m\u001b[1;34m'survived'\u001b[0m\u001b[1;33m]\u001b[0m \u001b[1;33m==\u001b[0m \u001b[1;36m1\u001b[0m\u001b[1;33m)\u001b[0m\u001b[1;33m]\u001b[0m\u001b[1;33m)\u001b[0m \u001b[1;33m/\u001b[0m \u001b[0mlen\u001b[0m\u001b[1;33m(\u001b[0m\u001b[0mhad_sbsp_df\u001b[0m\u001b[1;33m)\u001b[0m\u001b[1;33m\u001b[0m\u001b[1;33m\u001b[0m\u001b[0m\n",
      "\u001b[1;31mNameError\u001b[0m: name 'df' is not defined"
     ]
    }
   ],
   "source": [
    "#summary for siblings/ spouses column\n",
    "#print (get_num_outliers(df, 'siblings/spouses'))\n",
    "\n",
    "had_sbsp_df = df.loc[(df['siblings/spouses'] > 0)]\n",
    "had_died = 100 * len(had_sbsp_df.loc[(df['survived'] == 0)]) / len(had_sbsp_df)\n",
    "had_surv = 100 * len(had_sbsp_df.loc[(df['survived'] == 1)]) / len(had_sbsp_df)\n",
    "\n",
    "no_sbsp_df = df.loc[(df['siblings/spouses'] == 0)]\n",
    "no_died = 100 * len(no_sbsp_df.loc[(df['survived'] == 0)]) / len(no_sbsp_df)\n",
    "no_surv = 100 * len(no_sbsp_df.loc[(df['survived'] == 1)]) / len(no_sbsp_df)\n",
    "\n",
    "fig = mpl.pyplot.figure()\n",
    "ax = fig.add_axes([0,0,1,1])\n",
    "sbsprates = ['No Siblings or Spouses', 'Had Siblings or Spouses']\n",
    "rates = [no_surv, had_surv]\n",
    "ax.bar(sbsprates,rates,color=(0.5,1,0.3))\n",
    "plt.ylabel('Survived (Percentage)')\n",
    "plt.title('Survival Rates by Siblings/Spouses')\n",
    "plt.show()"
   ]
  },
  {
   "cell_type": "code",
   "execution_count": null,
   "metadata": {},
   "outputs": [],
   "source": [
    "#summary for parents/ children column\n",
    "#print (get_num_outliers(df, 'parents/children'))\n",
    "\n",
    "had_parch_df = df.loc[(df['parents/children'] > 0)]\n",
    "had_died = 100 * len(had_sbsp_df.loc[(df['survived'] == 0)]) / len(had_parch_df)\n",
    "had_surv = 100 * len(had_sbsp_df.loc[(df['survived'] == 1)]) / len(had_parch_df)\n",
    "\n",
    "no_parch_df = df.loc[(df['parents/children'] == 0)]\n",
    "no_died = 100 * len(no_sbsp_df.loc[(df['survived'] == 0)]) / len(no_parch_df)\n",
    "no_surv = 100 * len(no_sbsp_df.loc[(df['survived'] == 1)]) / len(no_parch_df)\n",
    "\n",
    "fig = mpl.pyplot.figure()\n",
    "ax = fig.add_axes([0,0,1,1])\n",
    "parchrates = ['No Parents or Children', 'Had Parents or Children']\n",
    "rates = [no_surv, had_surv]\n",
    "ax.bar(parchrates,rates,color=(0.5,1,0.3))\n",
    "plt.ylabel('Survived (Percentage)')\n",
    "plt.title('Survival Rates by Parents/Children')\n",
    "plt.show()"
   ]
  }
 ],
 "metadata": {
  "kernelspec": {
   "display_name": "Python 3",
   "language": "python",
   "name": "python3"
  },
  "language_info": {
   "codemirror_mode": {
    "name": "ipython",
    "version": 3
   },
   "file_extension": ".py",
   "mimetype": "text/x-python",
   "name": "python",
   "nbconvert_exporter": "python",
   "pygments_lexer": "ipython3",
   "version": "3.7.4"
  }
 },
 "nbformat": 4,
 "nbformat_minor": 2
}
